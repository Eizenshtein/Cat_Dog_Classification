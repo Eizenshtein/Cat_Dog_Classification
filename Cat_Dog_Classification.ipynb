{
  "nbformat": 4,
  "nbformat_minor": 0,
  "metadata": {
    "colab": {
      "name": "Cat || Dog CNN.ipynb",
      "provenance": [],
      "collapsed_sections": [],
      "toc_visible": true
    },
    "kernelspec": {
      "name": "python3",
      "display_name": "Python 3"
    },
    "language_info": {
      "name": "python"
    },
    "accelerator": "GPU"
  },
  "cells": [
    {
      "cell_type": "markdown",
      "metadata": {
        "id": "ZAAnWVLqmXiC"
      },
      "source": [
        "Kullanılan veri seti, Kaggle Dogs & Cats yarışmasından alınan veri setinin rastgele bir alt kümesidir.\n",
        "* <a href=\"https://www.kaggle.com/c/dogs-vs-cats/overview\">Veriler</a>\n",
        "* Eğitim arşivi, köpek ve kedilerin 25.000 görüntüsünü içerir.\n",
        "* Eğitim için 2000 Görsel (1000 Kedi / 1000 Köpek)\n",
        "* Doğrulama için 400 Görsel (200 Kedi / 200 Köpek)\n",
        "* Test için 100 Görsel (50 Kedi / 50 Köpek)      Kullanılmıştır.\n",
        "\n"
      ]
    },
    {
      "cell_type": "markdown",
      "metadata": {
        "id": "_6yLarHmsi9t"
      },
      "source": [
        "# Connect G-Drive"
      ]
    },
    {
      "cell_type": "code",
      "metadata": {
        "colab": {
          "base_uri": "https://localhost:8080/"
        },
        "id": "4N_CPuy3r5p6",
        "outputId": "ef336aab-2277-46ca-e700-3eac8fe4d6c1"
      },
      "source": [
        "#Colab üzerinde çalışmak için Drive Bağlantısı\n",
        "from google.colab import drive\n",
        "drive.mount('/gdrive')\n",
        "%cd /gdrive"
      ],
      "execution_count": 2,
      "outputs": [
        {
          "output_type": "stream",
          "name": "stdout",
          "text": [
            "Mounted at /gdrive\n",
            "/gdrive\n"
          ]
        }
      ]
    },
    {
      "cell_type": "code",
      "metadata": {
        "id": "_tWttDC8r6VW"
      },
      "source": [
        "import os \n",
        "os.chdir(\"/gdrive/MyDrive/Dog_Cat\") "
      ],
      "execution_count": 3,
      "outputs": []
    },
    {
      "cell_type": "markdown",
      "metadata": {
        "id": "NXapWeQvso41"
      },
      "source": [
        "# Import Library"
      ]
    },
    {
      "cell_type": "code",
      "metadata": {
        "id": "kq3cCxuMmDmd"
      },
      "source": [
        "import os\n",
        "import glob\n",
        "import random\n",
        "import shutil\n",
        "import itertools\n",
        "import numpy as np\n",
        "import pandas as pd\n",
        "import tensorflow as tf\n",
        "from tensorflow import keras\n",
        "import matplotlib.pyplot as plt\n",
        "from sklearn.metrics import confusion_matrix\n",
        "from tensorflow.keras.optimizers import Adam\n",
        "from tensorflow.keras.models import Sequential\n",
        "from tensorflow.python.client import device_lib\n",
        "from tensorflow.keras.metrics import categorical_crossentropy\n",
        "from tensorflow.keras.preprocessing.image import ImageDataGenerator\n",
        "from tensorflow.keras.layers import Activation, Dense, Flatten, BatchNormalization, Conv2D, MaxPool2D\n",
        "import warnings\n",
        "warnings.simplefilter(action=\"ignore\",category=FutureWarning)"
      ],
      "execution_count": 4,
      "outputs": []
    },
    {
      "cell_type": "markdown",
      "metadata": {
        "id": "7Cgg6ACjtUns"
      },
      "source": [
        "**Check GPU**"
      ]
    },
    {
      "cell_type": "code",
      "metadata": {
        "id": "qiX30I7ds4GX",
        "colab": {
          "base_uri": "https://localhost:8080/"
        },
        "outputId": "7f4db62e-4c15-4451-bad3-a4edeec8f6cb"
      },
      "source": [
        "device = tf.config.list_physical_devices()\n",
        "if(device[0][1] == \"CPU\"):\n",
        "  print(\"GPU is Not Avaible\")\n",
        "else:\n",
        "  physical_devices = tf.config.experimental.list_physical_devices('GPU')\n",
        "  tf.config.experimental.set_memory_growth(physical_devices[0], True)"
      ],
      "execution_count": 7,
      "outputs": [
        {
          "output_type": "stream",
          "name": "stdout",
          "text": [
            "GPU is Not Avaible\n"
          ]
        }
      ]
    },
    {
      "cell_type": "markdown",
      "metadata": {
        "id": "lLLJlSYxtxjP"
      },
      "source": [
        "# Data Prepation"
      ]
    },
    {
      "cell_type": "code",
      "metadata": {
        "id": "pJ96Aqn3BAPw"
      },
      "source": [
        "train_path = '/gdrive/MyDrive/Dog_Cat/train'\n",
        "valid_path = '/gdrive/MyDrive/Dog_Cat/valid'\n",
        "test_path = '/gdrive/MyDrive/Dog_Cat/test'"
      ],
      "execution_count": 5,
      "outputs": []
    },
    {
      "cell_type": "markdown",
      "metadata": {
        "id": "akIvgKE1Cu8Q"
      },
      "source": [
        "* ImageDataGenerator Belirtilen görüntüleri tensör görüntü verisi haline getirir.\n",
        "* Her veri seti için ImageDataGenerator'a preprocessing_function=tf.keras.applications.vgg16.preprocess_input belirtiyoruz burada amaç elimizdeki verileri VGG16 modeline fit etmek için uygun hale getirmek"
      ]
    },
    {
      "cell_type": "code",
      "metadata": {
        "id": "TUWxjx7jy_Y0",
        "colab": {
          "base_uri": "https://localhost:8080/"
        },
        "outputId": "f8adf0a2-c2aa-433b-e63d-7ca0bb458a42"
      },
      "source": [
        "train_batches = ImageDataGenerator(preprocessing_function=tf.keras.applications.vgg16.preprocess_input) \\\n",
        "    .flow_from_directory(directory=train_path, target_size=(224,224), classes=['cat', 'dog'], batch_size=10)\n",
        "valid_batches = ImageDataGenerator(preprocessing_function=tf.keras.applications.vgg16.preprocess_input) \\\n",
        "    .flow_from_directory(directory=valid_path, target_size=(224,224), classes=['cat', 'dog'], batch_size=10)\n",
        "test_batches = ImageDataGenerator(preprocessing_function=tf.keras.applications.vgg16.preprocess_input) \\\n",
        "    .flow_from_directory(directory=test_path, target_size=(224,224), classes=['cat', 'dog'], batch_size=10, shuffle=False)"
      ],
      "execution_count": 6,
      "outputs": [
        {
          "output_type": "stream",
          "name": "stdout",
          "text": [
            "Found 2000 images belonging to 2 classes.\n",
            "Found 400 images belonging to 2 classes.\n",
            "Found 100 images belonging to 2 classes.\n"
          ]
        }
      ]
    },
    {
      "cell_type": "markdown",
      "metadata": {
        "id": "6ksA2b-7O0C9"
      },
      "source": [
        "# Build VGG16 Model"
      ]
    },
    {
      "cell_type": "markdown",
      "metadata": {
        "id": "yUBcdUv2pkff"
      },
      "source": [
        "* VGG, Oxford Üniversitesi'nden K. Simonyan ve A. Zisserman tarafından “Büyük Ölçekli Görüntü Tanıma için Çok Derin Evrişimli Ağlar” makalesinde önerilen evrişimli bir sinir ağı modelidir.\n",
        "* Model, 1000 sınıfa ait 14 milyondan fazla görüntüden oluşan bir veri seti olan ImageNet'te %92,7'lik ilk 5 test doğruluğuna ulaşıyor."
      ]
    },
    {
      "cell_type": "code",
      "metadata": {
        "colab": {
          "base_uri": "https://localhost:8080/"
        },
        "id": "rzUIiiiSO3-h",
        "outputId": "4f0b2c72-62c4-4f0c-e3bd-a95772060727"
      },
      "source": [
        "vgg16_model = tf.keras.applications.vgg16.VGG16()"
      ],
      "execution_count": 11,
      "outputs": [
        {
          "output_type": "stream",
          "name": "stdout",
          "text": [
            "Downloading data from https://storage.googleapis.com/tensorflow/keras-applications/vgg16/vgg16_weights_tf_dim_ordering_tf_kernels.h5\n",
            "553467904/553467096 [==============================] - 6s 0us/step\n",
            "553476096/553467096 [==============================] - 6s 0us/step\n"
          ]
        }
      ]
    },
    {
      "cell_type": "code",
      "metadata": {
        "colab": {
          "base_uri": "https://localhost:8080/"
        },
        "id": "NZOY-JekPGNn",
        "outputId": "821176a9-4d9d-412d-89c7-fcd0e5ddb6db"
      },
      "source": [
        "vgg16_model.summary()"
      ],
      "execution_count": 12,
      "outputs": [
        {
          "output_type": "stream",
          "name": "stdout",
          "text": [
            "Model: \"vgg16\"\n",
            "_________________________________________________________________\n",
            "Layer (type)                 Output Shape              Param #   \n",
            "=================================================================\n",
            "input_1 (InputLayer)         [(None, 224, 224, 3)]     0         \n",
            "_________________________________________________________________\n",
            "block1_conv1 (Conv2D)        (None, 224, 224, 64)      1792      \n",
            "_________________________________________________________________\n",
            "block1_conv2 (Conv2D)        (None, 224, 224, 64)      36928     \n",
            "_________________________________________________________________\n",
            "block1_pool (MaxPooling2D)   (None, 112, 112, 64)      0         \n",
            "_________________________________________________________________\n",
            "block2_conv1 (Conv2D)        (None, 112, 112, 128)     73856     \n",
            "_________________________________________________________________\n",
            "block2_conv2 (Conv2D)        (None, 112, 112, 128)     147584    \n",
            "_________________________________________________________________\n",
            "block2_pool (MaxPooling2D)   (None, 56, 56, 128)       0         \n",
            "_________________________________________________________________\n",
            "block3_conv1 (Conv2D)        (None, 56, 56, 256)       295168    \n",
            "_________________________________________________________________\n",
            "block3_conv2 (Conv2D)        (None, 56, 56, 256)       590080    \n",
            "_________________________________________________________________\n",
            "block3_conv3 (Conv2D)        (None, 56, 56, 256)       590080    \n",
            "_________________________________________________________________\n",
            "block3_pool (MaxPooling2D)   (None, 28, 28, 256)       0         \n",
            "_________________________________________________________________\n",
            "block4_conv1 (Conv2D)        (None, 28, 28, 512)       1180160   \n",
            "_________________________________________________________________\n",
            "block4_conv2 (Conv2D)        (None, 28, 28, 512)       2359808   \n",
            "_________________________________________________________________\n",
            "block4_conv3 (Conv2D)        (None, 28, 28, 512)       2359808   \n",
            "_________________________________________________________________\n",
            "block4_pool (MaxPooling2D)   (None, 14, 14, 512)       0         \n",
            "_________________________________________________________________\n",
            "block5_conv1 (Conv2D)        (None, 14, 14, 512)       2359808   \n",
            "_________________________________________________________________\n",
            "block5_conv2 (Conv2D)        (None, 14, 14, 512)       2359808   \n",
            "_________________________________________________________________\n",
            "block5_conv3 (Conv2D)        (None, 14, 14, 512)       2359808   \n",
            "_________________________________________________________________\n",
            "block5_pool (MaxPooling2D)   (None, 7, 7, 512)         0         \n",
            "_________________________________________________________________\n",
            "flatten (Flatten)            (None, 25088)             0         \n",
            "_________________________________________________________________\n",
            "fc1 (Dense)                  (None, 4096)              102764544 \n",
            "_________________________________________________________________\n",
            "fc2 (Dense)                  (None, 4096)              16781312  \n",
            "_________________________________________________________________\n",
            "predictions (Dense)          (None, 1000)              4097000   \n",
            "=================================================================\n",
            "Total params: 138,357,544\n",
            "Trainable params: 138,357,544\n",
            "Non-trainable params: 0\n",
            "_________________________________________________________________\n"
          ]
        }
      ]
    },
    {
      "cell_type": "code",
      "metadata": {
        "id": "3BEZoLkDPIkn"
      },
      "source": [
        "#Model varsayılan olarak indirildiğinde son katman 1000 sınıf için ayarlanmıştır bunu bu model için 2 ye düşürülmesi gerekiyor\n",
        "model = Sequential()\n",
        "for layer in vgg16_model.layers[:-1]:\n",
        "    model.add(layer)"
      ],
      "execution_count": 13,
      "outputs": []
    },
    {
      "cell_type": "code",
      "metadata": {
        "id": "L_a9OfmlSA_M"
      },
      "source": [
        "#Katmanların ağırlıklarını VGG16 dan aldığı için tekrar eğitilmemesi için  katmanları eğitime kapatıyoruz\n",
        "for layer in model.layers:\n",
        "  layer.trainable = False"
      ],
      "execution_count": 14,
      "outputs": []
    },
    {
      "cell_type": "code",
      "metadata": {
        "id": "0nv5xC4iSGKY"
      },
      "source": [
        "#En sonra 2 birimli bir çıkış katmanı ekliyoruz\n",
        "model.add(Dense(units = 2 ,activation=\"softmax\"))"
      ],
      "execution_count": 15,
      "outputs": []
    },
    {
      "cell_type": "code",
      "metadata": {
        "colab": {
          "base_uri": "https://localhost:8080/"
        },
        "id": "7WzACJMISVaP",
        "outputId": "f0dcf2cd-6d58-4f24-98ef-dfb6c2c8a880"
      },
      "source": [
        "model.summary()"
      ],
      "execution_count": 16,
      "outputs": [
        {
          "output_type": "stream",
          "name": "stdout",
          "text": [
            "Model: \"sequential\"\n",
            "_________________________________________________________________\n",
            "Layer (type)                 Output Shape              Param #   \n",
            "=================================================================\n",
            "block1_conv1 (Conv2D)        (None, 224, 224, 64)      1792      \n",
            "_________________________________________________________________\n",
            "block1_conv2 (Conv2D)        (None, 224, 224, 64)      36928     \n",
            "_________________________________________________________________\n",
            "block1_pool (MaxPooling2D)   (None, 112, 112, 64)      0         \n",
            "_________________________________________________________________\n",
            "block2_conv1 (Conv2D)        (None, 112, 112, 128)     73856     \n",
            "_________________________________________________________________\n",
            "block2_conv2 (Conv2D)        (None, 112, 112, 128)     147584    \n",
            "_________________________________________________________________\n",
            "block2_pool (MaxPooling2D)   (None, 56, 56, 128)       0         \n",
            "_________________________________________________________________\n",
            "block3_conv1 (Conv2D)        (None, 56, 56, 256)       295168    \n",
            "_________________________________________________________________\n",
            "block3_conv2 (Conv2D)        (None, 56, 56, 256)       590080    \n",
            "_________________________________________________________________\n",
            "block3_conv3 (Conv2D)        (None, 56, 56, 256)       590080    \n",
            "_________________________________________________________________\n",
            "block3_pool (MaxPooling2D)   (None, 28, 28, 256)       0         \n",
            "_________________________________________________________________\n",
            "block4_conv1 (Conv2D)        (None, 28, 28, 512)       1180160   \n",
            "_________________________________________________________________\n",
            "block4_conv2 (Conv2D)        (None, 28, 28, 512)       2359808   \n",
            "_________________________________________________________________\n",
            "block4_conv3 (Conv2D)        (None, 28, 28, 512)       2359808   \n",
            "_________________________________________________________________\n",
            "block4_pool (MaxPooling2D)   (None, 14, 14, 512)       0         \n",
            "_________________________________________________________________\n",
            "block5_conv1 (Conv2D)        (None, 14, 14, 512)       2359808   \n",
            "_________________________________________________________________\n",
            "block5_conv2 (Conv2D)        (None, 14, 14, 512)       2359808   \n",
            "_________________________________________________________________\n",
            "block5_conv3 (Conv2D)        (None, 14, 14, 512)       2359808   \n",
            "_________________________________________________________________\n",
            "block5_pool (MaxPooling2D)   (None, 7, 7, 512)         0         \n",
            "_________________________________________________________________\n",
            "flatten (Flatten)            (None, 25088)             0         \n",
            "_________________________________________________________________\n",
            "fc1 (Dense)                  (None, 4096)              102764544 \n",
            "_________________________________________________________________\n",
            "fc2 (Dense)                  (None, 4096)              16781312  \n",
            "_________________________________________________________________\n",
            "dense (Dense)                (None, 2)                 8194      \n",
            "=================================================================\n",
            "Total params: 134,268,738\n",
            "Trainable params: 8,194\n",
            "Non-trainable params: 134,260,544\n",
            "_________________________________________________________________\n"
          ]
        }
      ]
    },
    {
      "cell_type": "markdown",
      "metadata": {
        "id": "eLU91TvBS00A"
      },
      "source": [
        "# Train VGG16 Model"
      ]
    },
    {
      "cell_type": "code",
      "metadata": {
        "id": "YRY5UmZkm6NI"
      },
      "source": [
        "#Modeli kaydetmek için gerekli basit fonksiyon\n",
        "def save_model(model):\n",
        "  model.save('dog_cat.h5')"
      ],
      "execution_count": 17,
      "outputs": []
    },
    {
      "cell_type": "code",
      "metadata": {
        "id": "hvfoS_i_SW_w"
      },
      "source": [
        "model.compile(optimizer=Adam(learning_rate=0.0001),loss=\"categorical_crossentropy\",metrics=[\"accuracy\"])"
      ],
      "execution_count": 18,
      "outputs": []
    },
    {
      "cell_type": "code",
      "metadata": {
        "colab": {
          "base_uri": "https://localhost:8080/"
        },
        "id": "4bxlCgeUTvww",
        "outputId": "bb4a3f9f-f80d-42e1-cda0-80ee1a2e63ae"
      },
      "source": [
        "#Modelin Eğitilmesi\n",
        "model.fit(x=train_batches,validation_data=valid_batches,epochs=10,verbose=2)\n",
        "save_model(model)"
      ],
      "execution_count": 19,
      "outputs": [
        {
          "output_type": "stream",
          "name": "stdout",
          "text": [
            "Epoch 1/10\n",
            "200/200 - 348s - loss: 0.2212 - accuracy: 0.9085 - val_loss: 0.1133 - val_accuracy: 0.9500\n",
            "Epoch 2/10\n",
            "200/200 - 31s - loss: 0.0684 - accuracy: 0.9790 - val_loss: 0.0815 - val_accuracy: 0.9650\n",
            "Epoch 3/10\n",
            "200/200 - 31s - loss: 0.0460 - accuracy: 0.9850 - val_loss: 0.0718 - val_accuracy: 0.9700\n",
            "Epoch 4/10\n",
            "200/200 - 31s - loss: 0.0344 - accuracy: 0.9890 - val_loss: 0.0672 - val_accuracy: 0.9750\n",
            "Epoch 5/10\n",
            "200/200 - 31s - loss: 0.0267 - accuracy: 0.9930 - val_loss: 0.0664 - val_accuracy: 0.9750\n",
            "Epoch 6/10\n",
            "200/200 - 31s - loss: 0.0205 - accuracy: 0.9960 - val_loss: 0.0735 - val_accuracy: 0.9675\n",
            "Epoch 7/10\n",
            "200/200 - 31s - loss: 0.0172 - accuracy: 0.9960 - val_loss: 0.0707 - val_accuracy: 0.9775\n",
            "Epoch 8/10\n",
            "200/200 - 31s - loss: 0.0136 - accuracy: 0.9965 - val_loss: 0.0693 - val_accuracy: 0.9750\n",
            "Epoch 9/10\n",
            "200/200 - 31s - loss: 0.0108 - accuracy: 0.9995 - val_loss: 0.0719 - val_accuracy: 0.9775\n",
            "Epoch 10/10\n",
            "200/200 - 31s - loss: 0.0089 - accuracy: 0.9990 - val_loss: 0.0732 - val_accuracy: 0.9750\n"
          ]
        }
      ]
    },
    {
      "cell_type": "code",
      "metadata": {
        "id": "hL3HAtVyuqC_"
      },
      "source": [
        "from tensorflow.keras.models import load_model\n",
        "model = load_model(\"dog_cat.h5\")"
      ],
      "execution_count": 11,
      "outputs": []
    },
    {
      "cell_type": "code",
      "metadata": {
        "id": "YiObuCUPmuHg"
      },
      "source": [
        "#Test verilerinin tahmin edilmesi\n",
        "predictions = model.predict(x=test_batches, steps=len(test_batches), verbose=0)"
      ],
      "execution_count": 12,
      "outputs": []
    },
    {
      "cell_type": "code",
      "metadata": {
        "id": "aACs3n15tvBu"
      },
      "source": [
        "def plot_confusion_matrix(cm, classes,\n",
        "                          normalize=False,\n",
        "                          title='Confusion matrix',\n",
        "                          cmap=plt.cm.Blues):\n",
        " \n",
        "    plt.imshow(cm, interpolation='nearest', cmap=cmap)\n",
        "    plt.title(title)\n",
        "    plt.colorbar()\n",
        "    tick_marks = np.arange(len(classes))\n",
        "    plt.xticks(tick_marks, classes, rotation=45)\n",
        "    plt.yticks(tick_marks, classes)\n",
        "\n",
        "    if normalize:\n",
        "        cm = cm.astype('float') / cm.sum(axis=1)[:, np.newaxis]\n",
        "        print(\"Normalized confusion matrix\")\n",
        "    else:\n",
        "        print('Confusion matrix, without normalization')\n",
        "\n",
        "    print(cm)\n",
        "\n",
        "    thresh = cm.max() / 2.\n",
        "    for i, j in itertools.product(range(cm.shape[0]), range(cm.shape[1])):\n",
        "        plt.text(j, i, cm[i, j],\n",
        "            horizontalalignment=\"center\",\n",
        "            color=\"white\" if cm[i, j] > thresh else \"black\")\n",
        "\n",
        "    plt.tight_layout()\n",
        "    plt.ylabel('True label')\n",
        "    plt.xlabel('Predicted label')"
      ],
      "execution_count": 13,
      "outputs": []
    },
    {
      "cell_type": "code",
      "metadata": {
        "colab": {
          "base_uri": "https://localhost:8080/",
          "height": 362
        },
        "id": "oWwrmXyamvof",
        "outputId": "5e50a351-131d-45ce-e0dd-a6b58a52caa7"
      },
      "source": [
        "cm = confusion_matrix(y_true=test_batches.classes, y_pred=np.argmax(predictions, axis=-1))\n",
        "cm_plot_labels = ['cat','dog']\n",
        "plot_confusion_matrix(cm=cm, classes=cm_plot_labels, title='Confusion Matrix')"
      ],
      "execution_count": 14,
      "outputs": [
        {
          "output_type": "stream",
          "name": "stdout",
          "text": [
            "Confusion matrix, without normalization\n",
            "[[50  0]\n",
            " [ 1 49]]\n"
          ]
        },
        {
          "output_type": "display_data",
          "data": {
            "image/png": "[encoded data removed]",
            "text/plain": [
              "<Figure size 432x288 with 2 Axes>"
            ]
          },
          "metadata": {
            "needs_background": "light"
          }
        }
      ]
    }
  ]
}